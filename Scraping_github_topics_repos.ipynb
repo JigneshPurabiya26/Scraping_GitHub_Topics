{
  "nbformat": 4,
  "nbformat_minor": 0,
  "metadata": {
    "colab": {
      "provenance": [],
      "authorship_tag": "ABX9TyOcK7b4n14gj3Rzz8NyGtE1",
      "include_colab_link": true
    },
    "kernelspec": {
      "name": "python3",
      "display_name": "Python 3"
    },
    "language_info": {
      "name": "python"
    }
  },
  "cells": [
    {
      "cell_type": "markdown",
      "metadata": {
        "id": "view-in-github",
        "colab_type": "text"
      },
      "source": [
        "<a href=\"https://colab.research.google.com/github/JigneshPurabiya26/Web_scraping_GitHub_topics/blob/main/Scraping_github_topics_repos.ipynb\" target=\"_parent\"><img src=\"https://colab.research.google.com/assets/colab-badge.svg\" alt=\"Open In Colab\"/></a>"
      ]
    },
    {
      "cell_type": "markdown",
      "source": [
        "#Scraping the top repositories for different TOPICS on Github.\n",
        "Let's first understand a few fundamental things before starting this project.\n",
        "- What is Web Scraping ?\n",
        "\n",
        "  It is a technique of scraping i.e. fetching any kind of data that is present on the web, the only prerequisite you need is to know about the basic HTML tags.\n",
        "\n",
        "- What is Github and Topics ?\n",
        "  \n",
        "  Github is an online version controlling platforms where there are millions of repositories created every day, and topics is a section on github where there are many trending topics listed and people upload their code by creating new repositories.\n",
        "\n",
        "- Tools used in this project ?\n",
        "\n",
        "  In order to create this project we will be using Python, and the libraries present in it such as BeautifulSoup, requests, Pandas, os, etc.\n",
        "\n"
      ],
      "metadata": {
        "id": "Eba1RJ5_i8Kb"
      }
    },
    {
      "cell_type": "markdown",
      "source": [
        "##Here are the steps we will follow during this project:-\n",
        "- We're going to scrape https://github.com/topics\n",
        "- We'll get a list of topics, for each topic we'll get topic_title,\n",
        "  topic_description and topic_url\n",
        "- For each topic we'll get the top 20 repositories from the topic page.\n",
        "- For each repository we'll get the username, repository name, repository url\n",
        "  and the number of stars it has acquired.\n",
        "- For each repository we'll create a .csv file in the following format:\n",
        "  \n",
        "   Reponame, Username,stars, repo_url\n",
        "   \n",
        "   three.js, mrdoob, 69k, https://github.com/mrdoob/three.js"
      ],
      "metadata": {
        "id": "A6tNdrTHlDpy"
      }
    },
    {
      "cell_type": "markdown",
      "source": [
        "##Scraping the list of topics from GitHub\n",
        "- Here we're going to scrape the list of topics present using the\n",
        "   beautiful soup library.\n",
        "- Further, we will specify the tags and the corresponding class in order\n",
        "  scrape the topic names.\n",
        "- Here we'll write a function to download a particular page."
      ],
      "metadata": {
        "id": "tFUvnCFCmnMR"
      }
    },
    {
      "cell_type": "code",
      "source": [
        "# installing the beautiful soup library\n",
        "!pip install beautifulsoup4 --upgrade --quiet\n",
        "from bs4 import BeautifulSoup\n",
        "import requests\n",
        "import pandas as pd"
      ],
      "metadata": {
        "colab": {
          "base_uri": "https://localhost:8080/"
        },
        "id": "Xg9kWqHiqI6V",
        "outputId": "66763d1a-6d14-4e83-ee8f-6b3fa2925e70"
      },
      "execution_count": 1,
      "outputs": [
        {
          "output_type": "stream",
          "name": "stdout",
          "text": [
            "\u001b[?25l     \u001b[90m━━━━━━━━━━━━━━━━━━━━━━━━━━━━━━━━━━━━━━━━\u001b[0m \u001b[32m0.0/143.0 kB\u001b[0m \u001b[31m?\u001b[0m eta \u001b[36m-:--:--\u001b[0m\r\u001b[2K     \u001b[91m━━━━━━━━━━━━━━━━━━━━━━━━━━━━━━━━━━━━\u001b[0m\u001b[90m╺\u001b[0m\u001b[90m━━\u001b[0m \u001b[32m133.1/143.0 kB\u001b[0m \u001b[31m4.2 MB/s\u001b[0m eta \u001b[36m0:00:01\u001b[0m\r\u001b[2K     \u001b[90m━━━━━━━━━━━━━━━━━━━━━━━━━━━━━━━━━━━━━━━\u001b[0m \u001b[32m143.0/143.0 kB\u001b[0m \u001b[31m3.5 MB/s\u001b[0m eta \u001b[36m0:00:00\u001b[0m\n",
            "\u001b[?25h"
          ]
        }
      ]
    },
    {
      "cell_type": "markdown",
      "source": [
        "###Step 1"
      ],
      "metadata": {
        "id": "34oarHo0sIn9"
      }
    },
    {
      "cell_type": "code",
      "execution_count": 2,
      "metadata": {
        "id": "x1BLEUzfiktn"
      },
      "outputs": [],
      "source": [
        "#This is the function which searches for different topics on the topics page\n",
        "#it basically scrapes the names of the individual topics from the topic page and stores them into a list\n",
        "def get_topic_titles(doc):\n",
        "    topics_selector = 'f3 lh-condensed mb-0 mt-1 Link--primary'\n",
        "    topic_titles = doc.find_all('p', {'class' : topics_selector})\n",
        "\n",
        "    topic_names = []\n",
        "    for tag in topic_titles:\n",
        "      topic_names.append(tag.text)\n",
        "\n",
        "    return topic_names"
      ]
    },
    {
      "cell_type": "markdown",
      "source": [
        "###Step 2"
      ],
      "metadata": {
        "id": "05Ho0mBVr92d"
      }
    },
    {
      "cell_type": "code",
      "source": [
        "#This is the function which searches for different topics description on the topics page\n",
        "#it basically scrapes the description of the individual topics from the topic page and stores them into a list\n",
        "def get_topic_descs(doc):\n",
        "    desc_selector = 'f5 color-fg-muted mb-0 mt-1'\n",
        "    topic_desc = doc.find_all('p', {'class': desc_selector})\n",
        "\n",
        "    topic_desc_list = []\n",
        "    for tag in topic_desc:\n",
        "      topic_desc_list.append(tag.text.strip())\n",
        "\n",
        "    return topic_desc_list"
      ],
      "metadata": {
        "id": "1qGoNny3oXUv"
      },
      "execution_count": 3,
      "outputs": []
    },
    {
      "cell_type": "markdown",
      "source": [
        "###Step 3"
      ],
      "metadata": {
        "id": "-MYkrwIGsBuM"
      }
    },
    {
      "cell_type": "code",
      "source": [
        "#This is the function which searches for different topics url on the topics page\n",
        "#it basically scrapes the url of the individual topics from the topic page and stores them into a list\n",
        "def get_topic_url(doc):\n",
        "   href_selector = 'no-underline flex-1 d-flex flex-column'\n",
        "   a_href_tags = doc.find_all('a', {'class': href_selector})\n",
        "\n",
        "   topics_url_list = []\n",
        "   base_url = 'https://github.com'\n",
        "\n",
        "   for tag in a_href_tags:\n",
        "     topics_url_list.append(base_url + tag['href'])\n",
        "   return topics_url_list"
      ],
      "metadata": {
        "id": "lBJOdoyxoc8f"
      },
      "execution_count": 4,
      "outputs": []
    },
    {
      "cell_type": "markdown",
      "source": [
        "###Step 4\n",
        "Combining Step 1,2, and 3"
      ],
      "metadata": {
        "id": "iclCnd-OsDuf"
      }
    },
    {
      "cell_type": "code",
      "source": [
        "#this is the final function which scrapes the list of topics and returns a dataframe\n",
        "def scrape_topics():\n",
        "    topics_url = 'https://github.com/topics'\n",
        "    response = requests.get(topics_url)\n",
        "\n",
        "    #checking the successful response\n",
        "    if response.status_code != 200:\n",
        "      raise Exception('Failed to load page {}'.format(topics_url))\n",
        "    doc = BeautifulSoup(response.text, 'html.parser')\n",
        "\n",
        "    topics_dict = {\n",
        "        'title' : get_topic_titles(doc),\n",
        "        'description': get_topic_descs(doc),\n",
        "        'url': get_topic_url(doc)\n",
        "    }\n",
        "    return pd.DataFrame(topics_dict)"
      ],
      "metadata": {
        "id": "-LcRlNS-ogBk"
      },
      "execution_count": 11,
      "outputs": []
    },
    {
      "cell_type": "markdown",
      "source": [
        "###Running the function which will list the dataframe showing the different topics present on Github"
      ],
      "metadata": {
        "id": "65AkLKXYsS5B"
      }
    },
    {
      "cell_type": "code",
      "source": [
        "scrape_topics()"
      ],
      "metadata": {
        "colab": {
          "base_uri": "https://localhost:8080/",
          "height": 990
        },
        "id": "k6vJq2rhpMc5",
        "outputId": "330af7d0-5781-4ec1-e667-1ced7894d1a9"
      },
      "execution_count": 13,
      "outputs": [
        {
          "output_type": "execute_result",
          "data": {
            "text/plain": [
              "                     title                                        description  \\\n",
              "0                       3D  3D refers to the use of three-dimensional grap...   \n",
              "1                     Ajax  Ajax is a technique for creating interactive w...   \n",
              "2                Algorithm  Algorithms are self-contained sequences that c...   \n",
              "3                      Amp  Amp is a non-blocking concurrency library for ...   \n",
              "4                  Android  Android is an operating system built by Google...   \n",
              "5                  Angular  Angular is an open source web application plat...   \n",
              "6                  Ansible  Ansible is a simple and powerful automation en...   \n",
              "7                      API  An API (Application Programming Interface) is ...   \n",
              "8                  Arduino  Arduino is an open source platform for buildin...   \n",
              "9                  ASP.NET  ASP.NET is a web framework for building modern...   \n",
              "10                    Atom  Atom is a open source text editor built with w...   \n",
              "11           Awesome Lists  An awesome list is a list of awesome things cu...   \n",
              "12     Amazon Web Services  Amazon Web Services provides on-demand cloud c...   \n",
              "13                   Azure  Azure is a cloud computing service created by ...   \n",
              "14                   Babel  Babel is a compiler for writing next generatio...   \n",
              "15                    Bash  Bash is a shell and command language interpret...   \n",
              "16                 Bitcoin  Bitcoin is a cryptocurrency developed by Satos...   \n",
              "17               Bootstrap  Bootstrap is an HTML, CSS, and JavaScript fram...   \n",
              "18                     Bot  A bot is an application that runs automated ta...   \n",
              "19                       C  C is a general purpose programming language th...   \n",
              "20                  Chrome  Chrome is a web browser from the tech company ...   \n",
              "21        Chrome extension  Chrome extensions enable users to customize th...   \n",
              "22  Command line interface  A CLI, or command-line interface, is a console...   \n",
              "23                 Clojure  Clojure is a dynamic, general-purpose programm...   \n",
              "24            Code quality  Automate your code review with style, quality,...   \n",
              "25             Code review  Ensure your code meets quality standards and s...   \n",
              "26                Compiler  Compilers are software that translate higher-l...   \n",
              "27  Continuous integration  Automatically build and test your code as you ...   \n",
              "28                COVID-19  The coronavirus disease 2019 (COVID-19) is an ...   \n",
              "29                     C++  C++ is a general purpose and object-oriented p...   \n",
              "\n",
              "                                                 url  \n",
              "0                       https://github.com/topics/3d  \n",
              "1                     https://github.com/topics/ajax  \n",
              "2                https://github.com/topics/algorithm  \n",
              "3                    https://github.com/topics/amphp  \n",
              "4                  https://github.com/topics/android  \n",
              "5                  https://github.com/topics/angular  \n",
              "6                  https://github.com/topics/ansible  \n",
              "7                      https://github.com/topics/api  \n",
              "8                  https://github.com/topics/arduino  \n",
              "9                   https://github.com/topics/aspnet  \n",
              "10                    https://github.com/topics/atom  \n",
              "11                 https://github.com/topics/awesome  \n",
              "12                     https://github.com/topics/aws  \n",
              "13                   https://github.com/topics/azure  \n",
              "14                   https://github.com/topics/babel  \n",
              "15                    https://github.com/topics/bash  \n",
              "16                 https://github.com/topics/bitcoin  \n",
              "17               https://github.com/topics/bootstrap  \n",
              "18                     https://github.com/topics/bot  \n",
              "19                       https://github.com/topics/c  \n",
              "20                  https://github.com/topics/chrome  \n",
              "21        https://github.com/topics/chrome-extension  \n",
              "22                     https://github.com/topics/cli  \n",
              "23                 https://github.com/topics/clojure  \n",
              "24            https://github.com/topics/code-quality  \n",
              "25             https://github.com/topics/code-review  \n",
              "26                https://github.com/topics/compiler  \n",
              "27  https://github.com/topics/continuous-integration  \n",
              "28                https://github.com/topics/covid-19  \n",
              "29                     https://github.com/topics/cpp  "
            ],
            "text/html": [
              "\n",
              "  <div id=\"df-674aa7fb-fbb3-4082-a2fa-b9a66b1c3179\" class=\"colab-df-container\">\n",
              "    <div>\n",
              "<style scoped>\n",
              "    .dataframe tbody tr th:only-of-type {\n",
              "        vertical-align: middle;\n",
              "    }\n",
              "\n",
              "    .dataframe tbody tr th {\n",
              "        vertical-align: top;\n",
              "    }\n",
              "\n",
              "    .dataframe thead th {\n",
              "        text-align: right;\n",
              "    }\n",
              "</style>\n",
              "<table border=\"1\" class=\"dataframe\">\n",
              "  <thead>\n",
              "    <tr style=\"text-align: right;\">\n",
              "      <th></th>\n",
              "      <th>title</th>\n",
              "      <th>description</th>\n",
              "      <th>url</th>\n",
              "    </tr>\n",
              "  </thead>\n",
              "  <tbody>\n",
              "    <tr>\n",
              "      <th>0</th>\n",
              "      <td>3D</td>\n",
              "      <td>3D refers to the use of three-dimensional grap...</td>\n",
              "      <td>https://github.com/topics/3d</td>\n",
              "    </tr>\n",
              "    <tr>\n",
              "      <th>1</th>\n",
              "      <td>Ajax</td>\n",
              "      <td>Ajax is a technique for creating interactive w...</td>\n",
              "      <td>https://github.com/topics/ajax</td>\n",
              "    </tr>\n",
              "    <tr>\n",
              "      <th>2</th>\n",
              "      <td>Algorithm</td>\n",
              "      <td>Algorithms are self-contained sequences that c...</td>\n",
              "      <td>https://github.com/topics/algorithm</td>\n",
              "    </tr>\n",
              "    <tr>\n",
              "      <th>3</th>\n",
              "      <td>Amp</td>\n",
              "      <td>Amp is a non-blocking concurrency library for ...</td>\n",
              "      <td>https://github.com/topics/amphp</td>\n",
              "    </tr>\n",
              "    <tr>\n",
              "      <th>4</th>\n",
              "      <td>Android</td>\n",
              "      <td>Android is an operating system built by Google...</td>\n",
              "      <td>https://github.com/topics/android</td>\n",
              "    </tr>\n",
              "    <tr>\n",
              "      <th>5</th>\n",
              "      <td>Angular</td>\n",
              "      <td>Angular is an open source web application plat...</td>\n",
              "      <td>https://github.com/topics/angular</td>\n",
              "    </tr>\n",
              "    <tr>\n",
              "      <th>6</th>\n",
              "      <td>Ansible</td>\n",
              "      <td>Ansible is a simple and powerful automation en...</td>\n",
              "      <td>https://github.com/topics/ansible</td>\n",
              "    </tr>\n",
              "    <tr>\n",
              "      <th>7</th>\n",
              "      <td>API</td>\n",
              "      <td>An API (Application Programming Interface) is ...</td>\n",
              "      <td>https://github.com/topics/api</td>\n",
              "    </tr>\n",
              "    <tr>\n",
              "      <th>8</th>\n",
              "      <td>Arduino</td>\n",
              "      <td>Arduino is an open source platform for buildin...</td>\n",
              "      <td>https://github.com/topics/arduino</td>\n",
              "    </tr>\n",
              "    <tr>\n",
              "      <th>9</th>\n",
              "      <td>ASP.NET</td>\n",
              "      <td>ASP.NET is a web framework for building modern...</td>\n",
              "      <td>https://github.com/topics/aspnet</td>\n",
              "    </tr>\n",
              "    <tr>\n",
              "      <th>10</th>\n",
              "      <td>Atom</td>\n",
              "      <td>Atom is a open source text editor built with w...</td>\n",
              "      <td>https://github.com/topics/atom</td>\n",
              "    </tr>\n",
              "    <tr>\n",
              "      <th>11</th>\n",
              "      <td>Awesome Lists</td>\n",
              "      <td>An awesome list is a list of awesome things cu...</td>\n",
              "      <td>https://github.com/topics/awesome</td>\n",
              "    </tr>\n",
              "    <tr>\n",
              "      <th>12</th>\n",
              "      <td>Amazon Web Services</td>\n",
              "      <td>Amazon Web Services provides on-demand cloud c...</td>\n",
              "      <td>https://github.com/topics/aws</td>\n",
              "    </tr>\n",
              "    <tr>\n",
              "      <th>13</th>\n",
              "      <td>Azure</td>\n",
              "      <td>Azure is a cloud computing service created by ...</td>\n",
              "      <td>https://github.com/topics/azure</td>\n",
              "    </tr>\n",
              "    <tr>\n",
              "      <th>14</th>\n",
              "      <td>Babel</td>\n",
              "      <td>Babel is a compiler for writing next generatio...</td>\n",
              "      <td>https://github.com/topics/babel</td>\n",
              "    </tr>\n",
              "    <tr>\n",
              "      <th>15</th>\n",
              "      <td>Bash</td>\n",
              "      <td>Bash is a shell and command language interpret...</td>\n",
              "      <td>https://github.com/topics/bash</td>\n",
              "    </tr>\n",
              "    <tr>\n",
              "      <th>16</th>\n",
              "      <td>Bitcoin</td>\n",
              "      <td>Bitcoin is a cryptocurrency developed by Satos...</td>\n",
              "      <td>https://github.com/topics/bitcoin</td>\n",
              "    </tr>\n",
              "    <tr>\n",
              "      <th>17</th>\n",
              "      <td>Bootstrap</td>\n",
              "      <td>Bootstrap is an HTML, CSS, and JavaScript fram...</td>\n",
              "      <td>https://github.com/topics/bootstrap</td>\n",
              "    </tr>\n",
              "    <tr>\n",
              "      <th>18</th>\n",
              "      <td>Bot</td>\n",
              "      <td>A bot is an application that runs automated ta...</td>\n",
              "      <td>https://github.com/topics/bot</td>\n",
              "    </tr>\n",
              "    <tr>\n",
              "      <th>19</th>\n",
              "      <td>C</td>\n",
              "      <td>C is a general purpose programming language th...</td>\n",
              "      <td>https://github.com/topics/c</td>\n",
              "    </tr>\n",
              "    <tr>\n",
              "      <th>20</th>\n",
              "      <td>Chrome</td>\n",
              "      <td>Chrome is a web browser from the tech company ...</td>\n",
              "      <td>https://github.com/topics/chrome</td>\n",
              "    </tr>\n",
              "    <tr>\n",
              "      <th>21</th>\n",
              "      <td>Chrome extension</td>\n",
              "      <td>Chrome extensions enable users to customize th...</td>\n",
              "      <td>https://github.com/topics/chrome-extension</td>\n",
              "    </tr>\n",
              "    <tr>\n",
              "      <th>22</th>\n",
              "      <td>Command line interface</td>\n",
              "      <td>A CLI, or command-line interface, is a console...</td>\n",
              "      <td>https://github.com/topics/cli</td>\n",
              "    </tr>\n",
              "    <tr>\n",
              "      <th>23</th>\n",
              "      <td>Clojure</td>\n",
              "      <td>Clojure is a dynamic, general-purpose programm...</td>\n",
              "      <td>https://github.com/topics/clojure</td>\n",
              "    </tr>\n",
              "    <tr>\n",
              "      <th>24</th>\n",
              "      <td>Code quality</td>\n",
              "      <td>Automate your code review with style, quality,...</td>\n",
              "      <td>https://github.com/topics/code-quality</td>\n",
              "    </tr>\n",
              "    <tr>\n",
              "      <th>25</th>\n",
              "      <td>Code review</td>\n",
              "      <td>Ensure your code meets quality standards and s...</td>\n",
              "      <td>https://github.com/topics/code-review</td>\n",
              "    </tr>\n",
              "    <tr>\n",
              "      <th>26</th>\n",
              "      <td>Compiler</td>\n",
              "      <td>Compilers are software that translate higher-l...</td>\n",
              "      <td>https://github.com/topics/compiler</td>\n",
              "    </tr>\n",
              "    <tr>\n",
              "      <th>27</th>\n",
              "      <td>Continuous integration</td>\n",
              "      <td>Automatically build and test your code as you ...</td>\n",
              "      <td>https://github.com/topics/continuous-integration</td>\n",
              "    </tr>\n",
              "    <tr>\n",
              "      <th>28</th>\n",
              "      <td>COVID-19</td>\n",
              "      <td>The coronavirus disease 2019 (COVID-19) is an ...</td>\n",
              "      <td>https://github.com/topics/covid-19</td>\n",
              "    </tr>\n",
              "    <tr>\n",
              "      <th>29</th>\n",
              "      <td>C++</td>\n",
              "      <td>C++ is a general purpose and object-oriented p...</td>\n",
              "      <td>https://github.com/topics/cpp</td>\n",
              "    </tr>\n",
              "  </tbody>\n",
              "</table>\n",
              "</div>\n",
              "    <div class=\"colab-df-buttons\">\n",
              "\n",
              "  <div class=\"colab-df-container\">\n",
              "    <button class=\"colab-df-convert\" onclick=\"convertToInteractive('df-674aa7fb-fbb3-4082-a2fa-b9a66b1c3179')\"\n",
              "            title=\"Convert this dataframe to an interactive table.\"\n",
              "            style=\"display:none;\">\n",
              "\n",
              "  <svg xmlns=\"http://www.w3.org/2000/svg\" height=\"24px\" viewBox=\"0 -960 960 960\">\n",
              "    <path d=\"M120-120v-720h720v720H120Zm60-500h600v-160H180v160Zm220 220h160v-160H400v160Zm0 220h160v-160H400v160ZM180-400h160v-160H180v160Zm440 0h160v-160H620v160ZM180-180h160v-160H180v160Zm440 0h160v-160H620v160Z\"/>\n",
              "  </svg>\n",
              "    </button>\n",
              "\n",
              "  <style>\n",
              "    .colab-df-container {\n",
              "      display:flex;\n",
              "      gap: 12px;\n",
              "    }\n",
              "\n",
              "    .colab-df-convert {\n",
              "      background-color: #E8F0FE;\n",
              "      border: none;\n",
              "      border-radius: 50%;\n",
              "      cursor: pointer;\n",
              "      display: none;\n",
              "      fill: #1967D2;\n",
              "      height: 32px;\n",
              "      padding: 0 0 0 0;\n",
              "      width: 32px;\n",
              "    }\n",
              "\n",
              "    .colab-df-convert:hover {\n",
              "      background-color: #E2EBFA;\n",
              "      box-shadow: 0px 1px 2px rgba(60, 64, 67, 0.3), 0px 1px 3px 1px rgba(60, 64, 67, 0.15);\n",
              "      fill: #174EA6;\n",
              "    }\n",
              "\n",
              "    .colab-df-buttons div {\n",
              "      margin-bottom: 4px;\n",
              "    }\n",
              "\n",
              "    [theme=dark] .colab-df-convert {\n",
              "      background-color: #3B4455;\n",
              "      fill: #D2E3FC;\n",
              "    }\n",
              "\n",
              "    [theme=dark] .colab-df-convert:hover {\n",
              "      background-color: #434B5C;\n",
              "      box-shadow: 0px 1px 3px 1px rgba(0, 0, 0, 0.15);\n",
              "      filter: drop-shadow(0px 1px 2px rgba(0, 0, 0, 0.3));\n",
              "      fill: #FFFFFF;\n",
              "    }\n",
              "  </style>\n",
              "\n",
              "    <script>\n",
              "      const buttonEl =\n",
              "        document.querySelector('#df-674aa7fb-fbb3-4082-a2fa-b9a66b1c3179 button.colab-df-convert');\n",
              "      buttonEl.style.display =\n",
              "        google.colab.kernel.accessAllowed ? 'block' : 'none';\n",
              "\n",
              "      async function convertToInteractive(key) {\n",
              "        const element = document.querySelector('#df-674aa7fb-fbb3-4082-a2fa-b9a66b1c3179');\n",
              "        const dataTable =\n",
              "          await google.colab.kernel.invokeFunction('convertToInteractive',\n",
              "                                                    [key], {});\n",
              "        if (!dataTable) return;\n",
              "\n",
              "        const docLinkHtml = 'Like what you see? Visit the ' +\n",
              "          '<a target=\"_blank\" href=https://colab.research.google.com/notebooks/data_table.ipynb>data table notebook</a>'\n",
              "          + ' to learn more about interactive tables.';\n",
              "        element.innerHTML = '';\n",
              "        dataTable['output_type'] = 'display_data';\n",
              "        await google.colab.output.renderOutput(dataTable, element);\n",
              "        const docLink = document.createElement('div');\n",
              "        docLink.innerHTML = docLinkHtml;\n",
              "        element.appendChild(docLink);\n",
              "      }\n",
              "    </script>\n",
              "  </div>\n",
              "\n",
              "\n",
              "<div id=\"df-65118697-62d3-451d-8460-43b8fd5746da\">\n",
              "  <button class=\"colab-df-quickchart\" onclick=\"quickchart('df-65118697-62d3-451d-8460-43b8fd5746da')\"\n",
              "            title=\"Suggest charts.\"\n",
              "            style=\"display:none;\">\n",
              "\n",
              "<svg xmlns=\"http://www.w3.org/2000/svg\" height=\"24px\"viewBox=\"0 0 24 24\"\n",
              "     width=\"24px\">\n",
              "    <g>\n",
              "        <path d=\"M19 3H5c-1.1 0-2 .9-2 2v14c0 1.1.9 2 2 2h14c1.1 0 2-.9 2-2V5c0-1.1-.9-2-2-2zM9 17H7v-7h2v7zm4 0h-2V7h2v10zm4 0h-2v-4h2v4z\"/>\n",
              "    </g>\n",
              "</svg>\n",
              "  </button>\n",
              "\n",
              "<style>\n",
              "  .colab-df-quickchart {\n",
              "      --bg-color: #E8F0FE;\n",
              "      --fill-color: #1967D2;\n",
              "      --hover-bg-color: #E2EBFA;\n",
              "      --hover-fill-color: #174EA6;\n",
              "      --disabled-fill-color: #AAA;\n",
              "      --disabled-bg-color: #DDD;\n",
              "  }\n",
              "\n",
              "  [theme=dark] .colab-df-quickchart {\n",
              "      --bg-color: #3B4455;\n",
              "      --fill-color: #D2E3FC;\n",
              "      --hover-bg-color: #434B5C;\n",
              "      --hover-fill-color: #FFFFFF;\n",
              "      --disabled-bg-color: #3B4455;\n",
              "      --disabled-fill-color: #666;\n",
              "  }\n",
              "\n",
              "  .colab-df-quickchart {\n",
              "    background-color: var(--bg-color);\n",
              "    border: none;\n",
              "    border-radius: 50%;\n",
              "    cursor: pointer;\n",
              "    display: none;\n",
              "    fill: var(--fill-color);\n",
              "    height: 32px;\n",
              "    padding: 0;\n",
              "    width: 32px;\n",
              "  }\n",
              "\n",
              "  .colab-df-quickchart:hover {\n",
              "    background-color: var(--hover-bg-color);\n",
              "    box-shadow: 0 1px 2px rgba(60, 64, 67, 0.3), 0 1px 3px 1px rgba(60, 64, 67, 0.15);\n",
              "    fill: var(--button-hover-fill-color);\n",
              "  }\n",
              "\n",
              "  .colab-df-quickchart-complete:disabled,\n",
              "  .colab-df-quickchart-complete:disabled:hover {\n",
              "    background-color: var(--disabled-bg-color);\n",
              "    fill: var(--disabled-fill-color);\n",
              "    box-shadow: none;\n",
              "  }\n",
              "\n",
              "  .colab-df-spinner {\n",
              "    border: 2px solid var(--fill-color);\n",
              "    border-color: transparent;\n",
              "    border-bottom-color: var(--fill-color);\n",
              "    animation:\n",
              "      spin 1s steps(1) infinite;\n",
              "  }\n",
              "\n",
              "  @keyframes spin {\n",
              "    0% {\n",
              "      border-color: transparent;\n",
              "      border-bottom-color: var(--fill-color);\n",
              "      border-left-color: var(--fill-color);\n",
              "    }\n",
              "    20% {\n",
              "      border-color: transparent;\n",
              "      border-left-color: var(--fill-color);\n",
              "      border-top-color: var(--fill-color);\n",
              "    }\n",
              "    30% {\n",
              "      border-color: transparent;\n",
              "      border-left-color: var(--fill-color);\n",
              "      border-top-color: var(--fill-color);\n",
              "      border-right-color: var(--fill-color);\n",
              "    }\n",
              "    40% {\n",
              "      border-color: transparent;\n",
              "      border-right-color: var(--fill-color);\n",
              "      border-top-color: var(--fill-color);\n",
              "    }\n",
              "    60% {\n",
              "      border-color: transparent;\n",
              "      border-right-color: var(--fill-color);\n",
              "    }\n",
              "    80% {\n",
              "      border-color: transparent;\n",
              "      border-right-color: var(--fill-color);\n",
              "      border-bottom-color: var(--fill-color);\n",
              "    }\n",
              "    90% {\n",
              "      border-color: transparent;\n",
              "      border-bottom-color: var(--fill-color);\n",
              "    }\n",
              "  }\n",
              "</style>\n",
              "\n",
              "  <script>\n",
              "    async function quickchart(key) {\n",
              "      const quickchartButtonEl =\n",
              "        document.querySelector('#' + key + ' button');\n",
              "      quickchartButtonEl.disabled = true;  // To prevent multiple clicks.\n",
              "      quickchartButtonEl.classList.add('colab-df-spinner');\n",
              "      try {\n",
              "        const charts = await google.colab.kernel.invokeFunction(\n",
              "            'suggestCharts', [key], {});\n",
              "      } catch (error) {\n",
              "        console.error('Error during call to suggestCharts:', error);\n",
              "      }\n",
              "      quickchartButtonEl.classList.remove('colab-df-spinner');\n",
              "      quickchartButtonEl.classList.add('colab-df-quickchart-complete');\n",
              "    }\n",
              "    (() => {\n",
              "      let quickchartButtonEl =\n",
              "        document.querySelector('#df-65118697-62d3-451d-8460-43b8fd5746da button');\n",
              "      quickchartButtonEl.style.display =\n",
              "        google.colab.kernel.accessAllowed ? 'block' : 'none';\n",
              "    })();\n",
              "  </script>\n",
              "</div>\n",
              "    </div>\n",
              "  </div>\n"
            ]
          },
          "metadata": {},
          "execution_count": 13
        }
      ]
    },
    {
      "cell_type": "markdown",
      "source": [
        "##Scraping the repositories from a particular topic\n",
        "- We'll specify the tags and the corresponding classes.\n",
        "- We'll create different functions to get the repositories for a\n",
        "  particular page."
      ],
      "metadata": {
        "id": "xHowV-1Notq-"
      }
    },
    {
      "cell_type": "markdown",
      "source": [
        "###Step 5\n",
        "Getting a particular topic page using the url mentioned in the scrape topic function in the step 4"
      ],
      "metadata": {
        "id": "dsUGg5fytEDU"
      }
    },
    {
      "cell_type": "code",
      "source": [
        "#this will take the create a doc for a particular topic\n",
        "def get_topic_page(topic_url):\n",
        "    #downloading the page\n",
        "    response = requests.get(topic_url)\n",
        "\n",
        "    #checking the successful response\n",
        "    if response.status_code != 200:\n",
        "      raise Exception('Failed to load page {}'.format(topic_url))\n",
        "\n",
        "    else:\n",
        "       #parsing using beautiful soup\n",
        "        topic_doc = BeautifulSoup(response.text,'html.parser')\n",
        "\n",
        "    return topic_doc"
      ],
      "metadata": {
        "id": "PqsqSkK7pJPe"
      },
      "execution_count": 14,
      "outputs": []
    },
    {
      "cell_type": "markdown",
      "source": [
        "###Step 6"
      ],
      "metadata": {
        "id": "NZuGdRRluAfk"
      }
    },
    {
      "cell_type": "code",
      "source": [
        "#Creating a function to get the star counts for a particular repository\n",
        "def parse_star_counts(star_str):\n",
        "  star_str = star_str.strip()\n",
        "  if(star_str[-1] == 'k'):\n",
        "    return int(float(star_str[:-1]) * 1000)\n",
        "  else:\n",
        "    return int(star_str)"
      ],
      "metadata": {
        "id": "pI4MHyaXqiRj"
      },
      "execution_count": 15,
      "outputs": []
    },
    {
      "cell_type": "code",
      "source": [
        "def get_repo_info(h3_tag,star_tag):\n",
        "  #returns all the required information about the repository\n",
        "\n",
        "  #there are different h3 tags in the list from that we'll be extracting different tags.\n",
        "  a_tags = h3_tag.find_all('a')\n",
        "\n",
        "  #each h3 tag has first a tag which contains the username\n",
        "  username = a_tags[0].text.strip()\n",
        "\n",
        "  #each h3 tag has first a tag which contains the username\n",
        "  reponame = a_tags[1].text.strip()\n",
        "\n",
        "  base_url = 'https://github.com'\n",
        "  #getting the repourl\n",
        "  repourl = repo_url = base_url + a_tags[1]['href']\n",
        "\n",
        "  #getting the stars\n",
        "  stars = parse_star_counts(star_tag.text.strip())\n",
        "  return username, reponame, repourl, stars"
      ],
      "metadata": {
        "id": "JWMoECKopc4W"
      },
      "execution_count": 22,
      "outputs": []
    },
    {
      "cell_type": "markdown",
      "source": [
        "###Step 7"
      ],
      "metadata": {
        "id": "ugI23kuCuZQn"
      }
    },
    {
      "cell_type": "code",
      "source": [
        "def get_topic_repos(topic_doc):\n",
        "    #selecting the h3 class\n",
        "    h3_selector = 'f3 color-fg-muted text-normal lh-condensed'\n",
        "\n",
        "    #finding the h3 tag containing the username, repotitle, repourl\n",
        "    repo_tags = topic_doc.find_all('h3', {'class': h3_selector})\n",
        "\n",
        "    #selecting the star class\n",
        "    star_selector = 'Counter js-social-count'\n",
        "\n",
        "    #finding the star tag\n",
        "    star_tags = topic_doc.find_all('span', {'class': star_selector})\n",
        "\n",
        "    #creating a dictionary\n",
        "    topic_repos_dict = {\n",
        "    'username':[],\n",
        "    'reponame': [],\n",
        "    'repourl':[],\n",
        "    'stars':[]\n",
        "    }\n",
        "    #getting the repo info\n",
        "    for i in range(len(repo_tags)):\n",
        "      #this will run the loop over the repo_tags list and take each particular tag\n",
        "      #and give it to the function that we have created in the step 6\n",
        "      repo_info = get_repo_info(repo_tags[i], star_tags[i])\n",
        "      topic_repos_dict['username'].append(repo_info[0])\n",
        "      topic_repos_dict['reponame'].append(repo_info[1])\n",
        "      topic_repos_dict['repourl'].append(repo_info[2])\n",
        "      topic_repos_dict['stars'].append(repo_info[3])\n",
        "\n",
        "    return pd.DataFrame(topic_repos_dict)"
      ],
      "metadata": {
        "id": "O9rG7Tn9p0p9"
      },
      "execution_count": 17,
      "outputs": []
    },
    {
      "cell_type": "markdown",
      "source": [
        "###Step 8"
      ],
      "metadata": {
        "id": "98AfWGxbueRD"
      }
    },
    {
      "cell_type": "code",
      "source": [
        "# This is the function for scraping the repositories for a particular topic\n",
        "def scrape_topic(topic_url, path):\n",
        "  f_name =  path + '.csv'\n",
        "  if os.path.exists(path):\n",
        "    print(f'The {path} already exists')\n",
        "    return\n",
        "  topic_df = get_topic_repos(get_topic_page(topic_url))\n",
        "  topic_df.to_csv(path, index = None)"
      ],
      "metadata": {
        "id": "pWvr57l3p42n"
      },
      "execution_count": 18,
      "outputs": []
    },
    {
      "cell_type": "markdown",
      "source": [
        "###Step 9"
      ],
      "metadata": {
        "id": "OsqJSLPIuv2j"
      }
    },
    {
      "cell_type": "code",
      "source": [
        "import os\n",
        "#running this function on the individual rows of the pandas dataframe\n",
        "def scrape_topic_repos():\n",
        "  print('Scraping list of topics from github')\n",
        "  topics_df = scrape_topics()\n",
        "  os.makedirs('data', exist_ok= True)\n",
        "  for index,row in topics_df.iterrows():\n",
        "    print('Scraping top repositories for the \"{}\" topic'.format(row['title']))\n",
        "    scrape_topic(row['url'], 'data/{}.csv'.format(row['title']))"
      ],
      "metadata": {
        "id": "sYsRQd-Kp80L"
      },
      "execution_count": 20,
      "outputs": []
    },
    {
      "cell_type": "markdown",
      "source": [
        "###Step 10"
      ],
      "metadata": {
        "id": "KBtP6rtouyhE"
      }
    },
    {
      "cell_type": "code",
      "source": [
        "scrape_topic_repos()"
      ],
      "metadata": {
        "colab": {
          "base_uri": "https://localhost:8080/"
        },
        "id": "ffuj6-yercnc",
        "outputId": "8530da85-5227-4f1c-a7a8-5171e7ecf07f"
      },
      "execution_count": 23,
      "outputs": [
        {
          "output_type": "stream",
          "name": "stdout",
          "text": [
            "Scraping list of topics from github\n",
            "Scraping top repositories for the \"3D\" topic\n",
            "Scraping top repositories for the \"Ajax\" topic\n",
            "Scraping top repositories for the \"Algorithm\" topic\n",
            "Scraping top repositories for the \"Amp\" topic\n",
            "Scraping top repositories for the \"Android\" topic\n",
            "Scraping top repositories for the \"Angular\" topic\n",
            "Scraping top repositories for the \"Ansible\" topic\n",
            "Scraping top repositories for the \"API\" topic\n",
            "Scraping top repositories for the \"Arduino\" topic\n",
            "Scraping top repositories for the \"ASP.NET\" topic\n",
            "Scraping top repositories for the \"Atom\" topic\n",
            "Scraping top repositories for the \"Awesome Lists\" topic\n",
            "Scraping top repositories for the \"Amazon Web Services\" topic\n",
            "Scraping top repositories for the \"Azure\" topic\n",
            "Scraping top repositories for the \"Babel\" topic\n",
            "Scraping top repositories for the \"Bash\" topic\n",
            "Scraping top repositories for the \"Bitcoin\" topic\n",
            "Scraping top repositories for the \"Bootstrap\" topic\n",
            "Scraping top repositories for the \"Bot\" topic\n",
            "Scraping top repositories for the \"C\" topic\n",
            "Scraping top repositories for the \"Chrome\" topic\n",
            "Scraping top repositories for the \"Chrome extension\" topic\n",
            "Scraping top repositories for the \"Command line interface\" topic\n",
            "Scraping top repositories for the \"Clojure\" topic\n",
            "Scraping top repositories for the \"Code quality\" topic\n",
            "Scraping top repositories for the \"Code review\" topic\n",
            "Scraping top repositories for the \"Compiler\" topic\n",
            "Scraping top repositories for the \"Continuous integration\" topic\n",
            "Scraping top repositories for the \"COVID-19\" topic\n",
            "Scraping top repositories for the \"C++\" topic\n"
          ]
        }
      ]
    }
  ]
}